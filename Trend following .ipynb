{
 "cells": [
  {
   "cell_type": "code",
   "execution_count": 1,
   "id": "64178759",
   "metadata": {
    "scrolled": false
   },
   "outputs": [
    {
     "name": "stdout",
     "output_type": "stream",
     "text": [
      "[*********************100%***********************]  1 of 1 completed\n"
     ]
    },
    {
     "data": {
      "image/png": "[encoded data removed]",
      "text/plain": [
       "<Figure size 480x320 with 1 Axes>"
      ]
     },
     "metadata": {},
     "output_type": "display_data"
    }
   ],
   "source": [
    "import numpy as np\n",
    "import matplotlib.pyplot as plt\n",
    "from matplotlib.pyplot import figure\n",
    "import pandas as pd\n",
    "import datetime as dt\n",
    "import yfinance as yf\n",
    "import ffn\n",
    "\n",
    "# Set display options for pandas\n",
    "pd.set_option(\"max_colwidth\", 100)\n",
    "pd.set_option(\"display.max_rows\", 100000)\n",
    "pd.set_option(\"display.max_columns\", 1000)\n",
    "\n",
    "# Fetch data from Yahoo Finance\n",
    "ticker = '^SPX'\n",
    "data = yf.download(ticker, start=\"2005-01-01\", end=\"2024-06-15\")\n",
    "data.rename(columns={'Adj Close': 'Adj_Close'}, inplace=True)\n",
    "data['Adj_Open'] = data['Open'] * (data['Adj_Close'] / data['Close'])\n",
    "\n",
    "# Select the required columns\n",
    "pricing = data[['Adj_Open', 'Adj_Close']].reset_index()\n",
    "\n",
    "# Plot the data\n",
    "figure(num=None, figsize=(6, 4), dpi=80, facecolor='w', edgecolor='k')\n",
    "plt.plot(pricing['Date'], pricing['Adj_Open'], label='Spy Open')\n",
    "plt.plot(pricing['Date'], pricing['Adj_Close'], label='Spy Close')\n",
    "plt.xlabel('Date')\n",
    "plt.ylabel('Price')\n",
    "plt.legend()\n",
    "plt.show()"
   ]
  },
  {
   "cell_type": "code",
   "execution_count": 2,
   "id": "311a00e9",
   "metadata": {},
   "outputs": [
    {
     "data": {
      "text/html": [
       "<div>\n",
       "<style scoped>\n",
       "    .dataframe tbody tr th:only-of-type {\n",
       "        vertical-align: middle;\n",
       "    }\n",
       "\n",
       "    .dataframe tbody tr th {\n",
       "        vertical-align: top;\n",
       "    }\n",
       "\n",
       "    .dataframe thead th {\n",
       "        text-align: right;\n",
       "    }\n",
       "</style>\n",
       "<table border=\"1\" class=\"dataframe\">\n",
       "  <thead>\n",
       "    <tr style=\"text-align: right;\">\n",
       "      <th></th>\n",
       "      <th>Date</th>\n",
       "      <th>Adj_Open</th>\n",
       "      <th>Adj_Close</th>\n",
       "    </tr>\n",
       "  </thead>\n",
       "  <tbody>\n",
       "    <tr>\n",
       "      <th>0</th>\n",
       "      <td>2005-01-03</td>\n",
       "      <td>1211.920044</td>\n",
       "      <td>1202.079956</td>\n",
       "    </tr>\n",
       "    <tr>\n",
       "      <th>1</th>\n",
       "      <td>2005-01-04</td>\n",
       "      <td>1202.079956</td>\n",
       "      <td>1188.050049</td>\n",
       "    </tr>\n",
       "    <tr>\n",
       "      <th>2</th>\n",
       "      <td>2005-01-05</td>\n",
       "      <td>1188.050049</td>\n",
       "      <td>1183.739990</td>\n",
       "    </tr>\n",
       "    <tr>\n",
       "      <th>3</th>\n",
       "      <td>2005-01-06</td>\n",
       "      <td>1183.739990</td>\n",
       "      <td>1187.890015</td>\n",
       "    </tr>\n",
       "    <tr>\n",
       "      <th>4</th>\n",
       "      <td>2005-01-07</td>\n",
       "      <td>1187.890015</td>\n",
       "      <td>1186.189941</td>\n",
       "    </tr>\n",
       "  </tbody>\n",
       "</table>\n",
       "</div>"
      ],
      "text/plain": [
       "        Date     Adj_Open    Adj_Close\n",
       "0 2005-01-03  1211.920044  1202.079956\n",
       "1 2005-01-04  1202.079956  1188.050049\n",
       "2 2005-01-05  1188.050049  1183.739990\n",
       "3 2005-01-06  1183.739990  1187.890015\n",
       "4 2005-01-07  1187.890015  1186.189941"
      ]
     },
     "execution_count": 2,
     "metadata": {},
     "output_type": "execute_result"
    }
   ],
   "source": [
    "pricing.head()"
   ]
  },
  {
   "cell_type": "code",
   "execution_count": 3,
   "id": "439f5c35",
   "metadata": {},
   "outputs": [
    {
     "data": {
      "text/html": [
       "<div>\n",
       "<style scoped>\n",
       "    .dataframe tbody tr th:only-of-type {\n",
       "        vertical-align: middle;\n",
       "    }\n",
       "\n",
       "    .dataframe tbody tr th {\n",
       "        vertical-align: top;\n",
       "    }\n",
       "\n",
       "    .dataframe thead th {\n",
       "        text-align: right;\n",
       "    }\n",
       "</style>\n",
       "<table border=\"1\" class=\"dataframe\">\n",
       "  <thead>\n",
       "    <tr style=\"text-align: right;\">\n",
       "      <th></th>\n",
       "      <th>Date</th>\n",
       "      <th>Adj_Open</th>\n",
       "      <th>Adj_Close</th>\n",
       "    </tr>\n",
       "  </thead>\n",
       "  <tbody>\n",
       "    <tr>\n",
       "      <th>4891</th>\n",
       "      <td>2024-06-10</td>\n",
       "      <td>5341.220215</td>\n",
       "      <td>5346.990234</td>\n",
       "    </tr>\n",
       "    <tr>\n",
       "      <th>4892</th>\n",
       "      <td>2024-06-11</td>\n",
       "      <td>5353.000000</td>\n",
       "      <td>5360.790039</td>\n",
       "    </tr>\n",
       "    <tr>\n",
       "      <th>4893</th>\n",
       "      <td>2024-06-12</td>\n",
       "      <td>5409.129883</td>\n",
       "      <td>5375.319824</td>\n",
       "    </tr>\n",
       "    <tr>\n",
       "      <th>4894</th>\n",
       "      <td>2024-06-13</td>\n",
       "      <td>5441.930176</td>\n",
       "      <td>5421.029785</td>\n",
       "    </tr>\n",
       "    <tr>\n",
       "      <th>4895</th>\n",
       "      <td>2024-06-14</td>\n",
       "      <td>5424.080078</td>\n",
       "      <td>5433.740234</td>\n",
       "    </tr>\n",
       "  </tbody>\n",
       "</table>\n",
       "</div>"
      ],
      "text/plain": [
       "           Date     Adj_Open    Adj_Close\n",
       "4891 2024-06-10  5341.220215  5346.990234\n",
       "4892 2024-06-11  5353.000000  5360.790039\n",
       "4893 2024-06-12  5409.129883  5375.319824\n",
       "4894 2024-06-13  5441.930176  5421.029785\n",
       "4895 2024-06-14  5424.080078  5433.740234"
      ]
     },
     "execution_count": 3,
     "metadata": {},
     "output_type": "execute_result"
    }
   ],
   "source": [
    "# Shift adjusted close for trading strategy\n",
    "stock = pricing.copy()\n",
    "stock['Adj_Close'] = stock['Adj_Close'].shift(1)\n",
    "stock.tail()"
   ]
  },
  {
   "cell_type": "code",
   "execution_count": 4,
   "id": "0abce4bc",
   "metadata": {},
   "outputs": [
    {
     "data": {
      "text/html": [
       "<div>\n",
       "<style scoped>\n",
       "    .dataframe tbody tr th:only-of-type {\n",
       "        vertical-align: middle;\n",
       "    }\n",
       "\n",
       "    .dataframe tbody tr th {\n",
       "        vertical-align: top;\n",
       "    }\n",
       "\n",
       "    .dataframe thead th {\n",
       "        text-align: right;\n",
       "    }\n",
       "</style>\n",
       "<table border=\"1\" class=\"dataframe\">\n",
       "  <thead>\n",
       "    <tr style=\"text-align: right;\">\n",
       "      <th></th>\n",
       "      <th>Date</th>\n",
       "      <th>Adj_Open</th>\n",
       "      <th>Adj_Close</th>\n",
       "    </tr>\n",
       "  </thead>\n",
       "  <tbody>\n",
       "    <tr>\n",
       "      <th>0</th>\n",
       "      <td>2013-08-16</td>\n",
       "      <td>1661.219971</td>\n",
       "      <td>1661.319946</td>\n",
       "    </tr>\n",
       "    <tr>\n",
       "      <th>1</th>\n",
       "      <td>2013-08-19</td>\n",
       "      <td>1655.250000</td>\n",
       "      <td>1655.829956</td>\n",
       "    </tr>\n",
       "    <tr>\n",
       "      <th>2</th>\n",
       "      <td>2013-08-20</td>\n",
       "      <td>1646.810059</td>\n",
       "      <td>1646.060059</td>\n",
       "    </tr>\n",
       "    <tr>\n",
       "      <th>3</th>\n",
       "      <td>2013-08-21</td>\n",
       "      <td>1650.660034</td>\n",
       "      <td>1652.349976</td>\n",
       "    </tr>\n",
       "    <tr>\n",
       "      <th>4</th>\n",
       "      <td>2013-08-22</td>\n",
       "      <td>1645.030029</td>\n",
       "      <td>1642.800049</td>\n",
       "    </tr>\n",
       "  </tbody>\n",
       "</table>\n",
       "</div>"
      ],
      "text/plain": [
       "        Date     Adj_Open    Adj_Close\n",
       "0 2013-08-16  1661.219971  1661.319946\n",
       "1 2013-08-19  1655.250000  1655.829956\n",
       "2 2013-08-20  1646.810059  1646.060059\n",
       "3 2013-08-21  1650.660034  1652.349976\n",
       "4 2013-08-22  1645.030029  1642.800049"
      ]
     },
     "execution_count": 4,
     "metadata": {},
     "output_type": "execute_result"
    }
   ],
   "source": [
    "# Split data into chunks\n",
    "stock_1 = stock.iloc[0:2170].copy()\n",
    "stock_2 = stock.iloc[2170:4342].copy().reset_index(drop=True)\n",
    "stock_3 = stock.iloc[4342:6513].copy().reset_index(drop=True)\n",
    "stock_2.head()"
   ]
  },
  {
   "cell_type": "code",
   "execution_count": 5,
   "id": "e236f778",
   "metadata": {},
   "outputs": [],
   "source": [
    "# Define trading strategy\n",
    "def trade(stock, length):\n",
    "    temp_dict = {}\n",
    "    if length == 0:\n",
    "        return 0\n",
    "\n",
    "    rolling_window = stock['Adj_Close'].rolling(window=length)\n",
    "    mu = rolling_window.mean()\n",
    "    std = rolling_window.std()\n",
    "\n",
    "    max_position = 1\n",
    "    slippage_adj = 0.99\n",
    "\n",
    "    zscores = (stock['Adj_Close'] - mu) / std\n",
    "\n",
    "    money = 30\n",
    "    position_count = 0\n",
    "\n",
    "    for i, row in stock.iterrows():\n",
    "        if zscores[i] > 1 and position_count < max_position:\n",
    "            money -= stock['Adj_Open'][i] * (1 / slippage_adj)\n",
    "            position_count += 1\n",
    "        elif zscores[i] < -1 and position_count > max_position * -1:\n",
    "            money += stock['Adj_Open'][i] * slippage_adj\n",
    "            position_count -= 1\n",
    "        elif abs(zscores[i]) < 0.5:\n",
    "            if position_count > 0:\n",
    "                money += position_count * stock['Adj_Open'][i] * slippage_adj\n",
    "            elif position_count < 0:\n",
    "                money += position_count * stock['Adj_Open'][i] * (1 / slippage_adj)\n",
    "            position_count = 0\n",
    "        \n",
    "        temp_dict[stock['Date'][i]] = [\n",
    "            stock['Adj_Open'][i], stock['Adj_Close'][i], mu[i], std[i], zscores[i],\n",
    "            money, position_count, stock['Adj_Open'][i] * (1 / slippage_adj), stock['Adj_Open'][i] * slippage_adj\n",
    "        ]\n",
    "\n",
    "    pr = pd.DataFrame(data=temp_dict).T\n",
    "    pr.index.name = 'Date'\n",
    "    pr.index = pd.to_datetime(pr.index)\n",
    "    pr.columns = [\n",
    "        'Open', 'Close', 'mu', 'std', 'zscores', 'money', 'position_count', 'buy_slippage', 'sell_slippage'\n",
    "    ]\n",
    "    pr['equity'] = pr['money'] + (pr['Open'] * pr['position_count'])\n",
    "    return pr\n"
   ]
  },
  {
   "cell_type": "code",
   "execution_count": 6,
   "id": "7d30b656",
   "metadata": {},
   "outputs": [
    {
     "name": "stdout",
     "output_type": "stream",
     "text": [
      "Stat                 equity\n",
      "-------------------  ----------\n",
      "Start                2005-10-18\n",
      "End                  2024-06-13\n",
      "Risk-free rate       0.00%\n",
      "\n",
      "Total Return         9938.90%\n",
      "Daily Sharpe         0.72\n",
      "Daily Sortino        1.20\n",
      "CAGR                 28.03%\n",
      "Max Drawdown         -66.09%\n",
      "Calmar Ratio         0.42\n",
      "\n",
      "MTD                  7.06%\n",
      "3m                   9.79%\n",
      "6m                   35.91%\n",
      "YTD                  28.01%\n",
      "1Y                   39.65%\n",
      "3Y (ann.)            19.15%\n",
      "5Y (ann.)            18.35%\n",
      "10Y (ann.)           9.61%\n",
      "Since Incep. (ann.)  28.03%\n",
      "\n",
      "Daily Sharpe         0.72\n",
      "Daily Sortino        1.20\n",
      "Daily Mean (ann.)    40.02%\n",
      "Daily Vol (ann.)     55.87%\n",
      "Daily Skew           1.94\n",
      "Daily Kurt           43.38\n",
      "Best Day             58.35%\n",
      "Worst Day            -41.10%\n",
      "\n",
      "Monthly Sharpe       0.70\n",
      "Monthly Sortino      1.90\n",
      "Monthly Mean (ann.)  35.30%\n",
      "Monthly Vol (ann.)   50.23%\n",
      "Monthly Skew         2.59\n",
      "Monthly Kurt         10.92\n",
      "Best Month           81.67%\n",
      "Worst Month          -30.44%\n",
      "\n",
      "Yearly Sharpe        0.43\n",
      "Yearly Sortino       6.62\n",
      "Yearly Mean          40.68%\n",
      "Yearly Vol           94.17%\n",
      "Yearly Skew          2.63\n",
      "Yearly Kurt          6.70\n",
      "Best Year            347.53%\n",
      "Worst Year           -19.81%\n",
      "\n",
      "Avg. Drawdown        -8.61%\n",
      "Avg. Drawdown Days   49.64\n",
      "Avg. Up Month        10.29%\n",
      "Avg. Down Month      -5.85%\n",
      "Win Year %           57.89%\n",
      "Win 12m %            65.42%\n"
     ]
    }
   ],
   "source": [
    "# Apply the trading strategy\n",
    "moving_average = 200\n",
    "profit = trade(pricing, moving_average)\n",
    "\n",
    "# Analyze the profit\n",
    "series = profit[['equity']].copy()\n",
    "series = series[moving_average:-1]\n",
    "\n",
    "stats = series.calc_stats()\n",
    "stats.display()"
   ]
  },
  {
   "cell_type": "code",
   "execution_count": 7,
   "id": "ca6d9069",
   "metadata": {},
   "outputs": [
    {
     "data": {
      "image/png": "[encoded data removed]",
      "text/plain": [
       "<Figure size 432x288 with 1 Axes>"
      ]
     },
     "metadata": {
      "needs_background": "light"
     },
     "output_type": "display_data"
    }
   ],
   "source": [
    "prices =series\n",
    "ax = stats.prices.to_drawdown_series().plot()"
   ]
  },
  {
   "cell_type": "code",
   "execution_count": 8,
   "id": "48138763",
   "metadata": {},
   "outputs": [
    {
     "data": {
      "image/png": "[encoded data removed]",
      "text/plain": [
       "<Figure size 432x288 with 1 Axes>"
      ]
     },
     "metadata": {
      "needs_background": "light"
     },
     "output_type": "display_data"
    }
   ],
   "source": [
    "ax = prices.plot(logy=True)"
   ]
  }
 ],
 "metadata": {
  "kernelspec": {
   "display_name": "Python 3 (ipykernel)",
   "language": "python",
   "name": "python3"
  },
  "language_info": {
   "codemirror_mode": {
    "name": "ipython",
    "version": 3
   },
   "file_extension": ".py",
   "mimetype": "text/x-python",
   "name": "python",
   "nbconvert_exporter": "python",
   "pygments_lexer": "ipython3",
   "version": "3.9.7"
  }
 },
 "nbformat": 4,
 "nbformat_minor": 5
}
